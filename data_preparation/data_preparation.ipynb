{
 "cells": [
  {
   "cell_type": "code",
   "execution_count": 15,
   "id": "5da5f502",
   "metadata": {
    "scrolled": true
   },
   "outputs": [
    {
     "name": "stdout",
     "output_type": "stream",
     "text": [
      "Dataset splitting and class organization complete.\n"
     ]
    }
   ],
   "source": [
    "#Importing the necessary Libraries\n",
    "import os\n",
    "import shutil\n",
    "import random\n",
    "\n",
    "# Defining the paths to my dataset folders\n",
    "image_folder = r'C:\\Users\\Dipeolu Ayomide\\OneDrive\\Desktop\\facemask_detection\\data_preparation\\images'\n",
    "annotation_folder = r\"C:\\Users\\Dipeolu Ayomide\\OneDrive\\Desktop\\facemask_detection\\data_preparation\\annotations\"\n",
    "\n",
    "# Defining the destination folders for training and validation sets\n",
    "train_folder = r\"C:\\Users\\Dipeolu Ayomide\\OneDrive\\Desktop\\facemask_detection\\data_preparation\\train\"\n",
    "validation_folder = r\"C:\\Users\\Dipeolu Ayomide\\OneDrive\\Desktop\\facemask_detection\\data_preparation\\validation\"\n",
    "\n",
    "# Creating the class folders in the destination folders\n",
    "class_names = [\"no_mask\", \"with_mask\", \"mask_weared_incorrect\"]\n",
    "for class_name in class_names:\n",
    "    os.makedirs(os.path.join(train_folder, class_name), exist_ok=True)\n",
    "    os.makedirs(os.path.join(validation_folder, class_name), exist_ok=True)\n",
    "\n",
    "# Listing all image files in the image folder\n",
    "image_files = [file for file in os.listdir(image_folder) if file.endswith(\".png\")]\n",
    "\n",
    "# Setting the percentage of data for training\n",
    "split_ratio = 0.7\n",
    "\n",
    "# Randomly shufflling the image files\n",
    "random.shuffle(image_files)\n",
    "\n",
    "# Splitting the data into training and validation sets\n",
    "split_index = int(len(image_files) * split_ratio)\n",
    "train_files = image_files[:split_index]\n",
    "validation_files = image_files[split_index:]\n",
    "\n",
    "# Function to get class name from XML file\n",
    "def get_class_name(annotation_file):\n",
    "    with open(annotation_file, 'r') as file:\n",
    "        xml_content = file.read()\n",
    "        if \"without_mask\" in xml_content:\n",
    "            return \"no_mask\"\n",
    "        elif \"with_mask\" in xml_content:\n",
    "            return \"with_mask\"\n",
    "        elif \"mask_weared_incorrect\" in xml_content:\n",
    "            return \"mask_weared_incorrect\"\n",
    "        else:\n",
    "            return None\n",
    "\n",
    "# Copying images to their respective class folders in the training and validation sets\n",
    "for image_file in train_files:\n",
    "    # Finding the corresponding annotation file\n",
    "    annotation_filename = image_file.replace(\".png\", \".xml\")\n",
    "    annotation_file = os.path.join(annotation_folder, annotation_filename)\n",
    "    \n",
    "    class_name = get_class_name(annotation_file)\n",
    "    \n",
    "    if class_name:\n",
    "        destination_folder = os.path.join(train_folder, class_name)\n",
    "        image_destination = os.path.join(destination_folder, image_file)  # Corrected destination path\n",
    "        if os.path.exists(image_destination):\n",
    "            # Renaming the image to avoid overwriting\n",
    "            image_name, image_extension = os.path.splitext(image_file)\n",
    "            image_destination = os.path.join(destination_folder, f\"{image_name}_duplicate{image_extension}\")\n",
    "        shutil.copy(os.path.join(image_folder, image_file), image_destination)\n",
    "\n",
    "for image_file in validation_files:\n",
    "    # Finding the corresponding annotation file\n",
    "    annotation_filename = image_file.replace(\".png\", \".xml\")\n",
    "    annotation_file = os.path.join(annotation_folder, annotation_filename)\n",
    "    \n",
    "    class_name = get_class_name(annotation_file)\n",
    "    \n",
    "    if class_name:\n",
    "        destination_folder = os.path.join(validation_folder, class_name)\n",
    "        image_destination = os.path.join(destination_folder, image_file)  # Corrected destination path\n",
    "        if os.path.exists(image_destination):\n",
    "            # Renaming the image to avoid overwriting\n",
    "            image_name, image_extension = os.path.splitext(image_file)\n",
    "            image_destination = os.path.join(destination_folder, f\"{image_name}_duplicate{image_extension}\")\n",
    "        shutil.copy(os.path.join(image_folder, image_file), image_destination)\n",
    "\n",
    "print(\"Dataset splitting and class organization complete.\")\n"
   ]
  },
  {
   "cell_type": "code",
   "execution_count": null,
   "id": "81a78eee",
   "metadata": {},
   "outputs": [],
   "source": []
  },
  {
   "cell_type": "code",
   "execution_count": null,
   "id": "6940211d",
   "metadata": {},
   "outputs": [],
   "source": []
  },
  {
   "cell_type": "code",
   "execution_count": null,
   "id": "5e2a58ad",
   "metadata": {},
   "outputs": [],
   "source": []
  }
 ],
 "metadata": {
  "kernelspec": {
   "display_name": "Python 3 (ipykernel)",
   "language": "python",
   "name": "python3"
  },
  "language_info": {
   "codemirror_mode": {
    "name": "ipython",
    "version": 3
   },
   "file_extension": ".py",
   "mimetype": "text/x-python",
   "name": "python",
   "nbconvert_exporter": "python",
   "pygments_lexer": "ipython3",
   "version": "3.10.9"
  }
 },
 "nbformat": 4,
 "nbformat_minor": 5
}
